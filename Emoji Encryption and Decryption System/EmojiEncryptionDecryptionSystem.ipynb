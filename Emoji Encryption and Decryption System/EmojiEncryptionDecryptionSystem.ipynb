{
  "nbformat": 4,
  "nbformat_minor": 0,
  "metadata": {
    "colab": {
      "provenance": []
    },
    "kernelspec": {
      "name": "python3",
      "display_name": "Python 3"
    },
    "language_info": {
      "name": "python"
    }
  },
  "cells": [
    {
      "cell_type": "code",
      "execution_count": 36,
      "metadata": {
        "id": "dCcozCvEm36U"
      },
      "outputs": [],
      "source": [
        "emoji_dict = {\n",
        "    'a': '😀', 'b': '😃', 'c': '😄', 'd': '😁', 'e': '😆',\n",
        "    'f': '😅', 'g': '😂', 'h': '🤣', 'i': '😊', 'j': '😇',\n",
        "    'k': '🙂', 'l': '🙃', 'm': '😉', 'n': '😌', 'o': '😍',\n",
        "    'p': '🥰', 'q': '😘', 'r': '😗', 's': '😙', 't': '😚',\n",
        "    'u': '😋', 'v': '😛', 'w': '😜', 'x': '🤪', 'y': '😝',\n",
        "    'z': '🤑', ' ': '🧗🏼‍♂️', '.': '⚫', ',': '⚪',\n",
        "    'A': '👶', 'B': '👧', 'C': '👵', 'D': '🕵️', 'E': '👰‍♂️',\n",
        "    'F': '🤵‍♂️', 'G': '🫀', 'H': '🫁', 'I': '🧠', 'J': '🦷',\n",
        "    'K': '🦴', 'L': '👀', 'M': '👁', 'N': '👅', 'O': '👄',\n",
        "    'P': '🧟‍♀️', 'Q': '🧑‍🎄', 'R': '👩‍🦽', 'S': '🌂', 'T': '🕶',\n",
        "    'U': '🧣', 'V': '🧤', 'W': '👋🏻', 'X': '💇🏻‍♂️', 'Y': '🚣🏻‍♂️',\n",
        "    'Z': '💃🏻', '1': '🏋🏻', '2': '👩🏼‍🎓', '3': '👩🏼‍🎤', '4': '🧑🏼‍🏫', '5': '👩🏼‍💻',\n",
        "    '6': '🧑🏼‍✈️', '7': '🦹🏼‍♂️', '8': '👼🏼', '9': '🙇🏼', '0': '🧎🏼‍➡️'\n",
        "}\n",
        "\n",
        "reverse_emoji_dict = {v: k for k, v in emoji_dict.items()}\n"
      ]
    },
    {
      "cell_type": "code",
      "source": [
        "def encrypt_message(message):\n",
        "    encrypted_message = \"\"\n",
        "    for char in message:\n",
        "        if char in emoji_dict:\n",
        "            encrypted_message += emoji_dict[char]\n",
        "        else:\n",
        "            encrypted_message += char\n",
        "    return encrypted_message\n"
      ],
      "metadata": {
        "id": "S3PUzEPEnkxc"
      },
      "execution_count": 37,
      "outputs": []
    },
    {
      "cell_type": "code",
      "source": [
        "def decrypt_message(encrypted_message):\n",
        "    decrypted_message = \"\"\n",
        "    for char in encrypted_message:\n",
        "        if char in reverse_emoji_dict:\n",
        "            decrypted_message += reverse_emoji_dict[char]\n",
        "        else:\n",
        "            decrypted_message += char\n",
        "    return decrypted_message\n"
      ],
      "metadata": {
        "id": "AIWgcyWtnqVx"
      },
      "execution_count": 38,
      "outputs": []
    },
    {
      "cell_type": "code",
      "source": [
        "def main():\n",
        "    while True:\n",
        "        choice = input(\"Do you want to Encrypt(e) or Decrypt(d) a message or Quit(q) ? \").lower()\n",
        "        if choice == 'e':\n",
        "            message = input(\"Enter the message to encrypt: \")\n",
        "            encrypted_message = encrypt_message(message)\n",
        "            print(f\"Encrypted message: {encrypted_message}\")\n",
        "        elif choice == 'd':\n",
        "            encrypted_message = input(\"Enter the message to decrypt: \")\n",
        "            decrypted_message = decrypt_message(encrypted_message)\n",
        "            print(f\"Decrypted message: {decrypted_message}\")\n",
        "        elif choice == 'q':\n",
        "            print(\"Exiting the program.Bye\")\n",
        "            break\n",
        "        else:\n",
        "            print(\"Invalid choice. Please try again.\")\n",
        "\n",
        "if __name__ == \"__main__\":\n",
        "    main()\n"
      ],
      "metadata": {
        "colab": {
          "base_uri": "https://localhost:8080/"
        },
        "id": "3UOijXsGntzc",
        "outputId": "c2dc597a-e1ba-4ba0-d934-ce1d30ae196a"
      },
      "execution_count": 39,
      "outputs": [
        {
          "output_type": "stream",
          "name": "stdout",
          "text": [
            "Do you want to Encrypt(e) or Decrypt(d) a message or Quit(q) ? e\n",
            "Enter the message to encrypt: Kalash\n",
            "Encrypted message: 🦴😀🙃😀😙🤣\n",
            "Do you want to Encrypt(e) or Decrypt(d) a message or Quit(q) ? d\n",
            "Enter the message to decrypt: 🦴😀🙃😀😙🤣\n",
            "Decrypted message: Kalash\n",
            "Do you want to Encrypt(e) or Decrypt(d) a message or Quit(q) ? q\n",
            "Exiting the program.Bye\n"
          ]
        }
      ]
    },
    {
      "cell_type": "code",
      "source": [
        "def create_custom_mapping():\n",
        "    custom_dict = {}\n",
        "    while True:\n",
        "        letter = input(\"Enter the letter to map (or 'done' to finish): \").lower()\n",
        "        if letter == 'done':\n",
        "            break\n",
        "        emoji = input(\"Enter the emoji to map to: \")\n",
        "        custom_dict[letter] = emoji\n",
        "    return custom_dict\n",
        "\n",
        "custom_emoji_dict = create_custom_mapping()\n"
      ],
      "metadata": {
        "colab": {
          "base_uri": "https://localhost:8080/"
        },
        "id": "G3utmY6Wn38U",
        "outputId": "107c03fc-4dd2-4939-9dd3-d781d58f7189"
      },
      "execution_count": 40,
      "outputs": [
        {
          "name": "stdout",
          "output_type": "stream",
          "text": [
            "Enter the letter to map (or 'done' to finish): a\n",
            "Enter the emoji to map to: 💩\n",
            "Enter the letter to map (or 'done' to finish): done\n"
          ]
        }
      ]
    },
    {
      "cell_type": "code",
      "source": [
        "def shift_cipher(message, shift):\n",
        "    shifted_message = \"\"\n",
        "    for i, char in enumerate(message):\n",
        "        if char in emoji_dict:\n",
        "            shift_index = (i + shift) % len(emoji_dict)\n",
        "            shifted_message += list(emoji_dict.values())[shift_index]\n",
        "        else:\n",
        "            shifted_message += char\n",
        "    return shifted_message\n"
      ],
      "metadata": {
        "id": "6HwBOuQPsUA1"
      },
      "execution_count": 42,
      "outputs": []
    }
  ]
}